{
 "cells": [
  {
   "cell_type": "markdown",
   "id": "ee496cd3",
   "metadata": {},
   "source": [
    "# covid-19 crisis\n",
    "\n",
    "### Introduction\n",
    "\n",
    "As the world grapples with the challenges posed by the COVID-19 pandemic, understanding the intricacies of the virus's spread and its effects on various demographics becomes crucial in formulating effective response strategies. South Korea, given its proximity to the initial outbreak and its robust healthcare system, offers valuable insights into the pandemic's progression and containment.\n",
    "\n",
    "The provided dataset encompasses detailed patient-level data from South Korea, shedding light on various aspects of the pandemic — from the source of infection to the time it took for symptom onset and subsequent confirmation. Covering a range of provinces and cities, the data encapsulates diverse demographics, allowing for a comprehensive analysis that can aid in formulating targeted response strategies.\n",
    "\n",
    "With parameters such as age, gender, infection source, and days between symptom onset and confirmation, this analysis seeks to unearth patterns, identify at-risk demographics, and gauge the effectiveness of existing measures. By leveraging this data, our aim is to fortify our homeland's preparedness for potential subsequent waves and refine our approach in the ongoing \"Corona Fight.\"\n",
    "\n",
    "Understanding the depth and implications of this data is imperative. As we navigate through its layers, we'll extract key insights, paving the way for evidence-backed decisions that prioritize the well-being of our citizens and the resilience of our healthcare systems.\n",
    "\n",
    "**Source of data:** [KCDC (Korea Centers for Disease Control & Prevention](https://www.kaggle.com/datasets/kimjihoo/coronavirusdataset)"
   ]
  },
  {
   "cell_type": "markdown",
   "id": "923f8c5d-6a97-4603-aad2-7f093fc5bfc4",
   "metadata": {},
   "source": [
    "### Data Overview\n",
    "The dataset in focus is an exhaustive compilation of patient-level data related to the COVID-19 cases in South Korea. Derived from a reputable source, the data encompasses a duration from January to June 2020, a critical period in the pandemic's timeline.\n",
    "\n",
    "* Personal Information: Includes patient ID, gender, age, country of residence, and specific location data (province and city).\n",
    "* Infection Details: Captures the source of the infection, whether it was an overseas inflow, contact with an existing patient, or other categories. Also includes specific details on which patient an individual was infected by (if applicable) and the number of contacts they had.\n",
    "* Medical Timeline: Details symptom onset date, the date of confirmation, the date of release (recovery), and the date of decease (if applicable).\n",
    "* State: Captures the current health state of the patient, such as isolated, released, or deceased.\n",
    "* Derived Metrics: These metrics include days between symptom onset and confirmation, days between confirmation and release, and days between confirmation and decease.\n",
    "\n",
    "Preprocessing Steps Undertaken: Handling missing values, date conversion, computation of derived metrics and categorization."
   ]
  },
  {
   "cell_type": "code",
   "execution_count": 1,
   "id": "24689e29",
   "metadata": {},
   "outputs": [],
   "source": [
    "# Importing libraries\n",
    "\n",
    "from my_func import *\n",
    "from collections import Counter\n",
    "import re\n",
    "\n",
    "pd.set_option('display.float_format', '{:.0f}'.format)"
   ]
  },
  {
   "cell_type": "code",
   "execution_count": null,
   "id": "4fa00634",
   "metadata": {},
   "outputs": [],
   "source": [
    "# Print out the available datasets"
   ]
  },
  {
   "cell_type": "code",
   "execution_count": null,
   "id": "0f3232df",
   "metadata": {
    "scrolled": true
   },
   "outputs": [],
   "source": [
    "ls datasets/covid"
   ]
  },
  {
   "cell_type": "code",
   "execution_count": null,
   "id": "7cf261db",
   "metadata": {},
   "outputs": [],
   "source": [
    "# Import Patient Level dataset. \n",
    "\n",
    "df = pd.read_csv('datasets/covid/PatientInfo.csv')\n",
    "df.head()"
   ]
  },
  {
   "cell_type": "code",
   "execution_count": null,
   "id": "0f6ac05c",
   "metadata": {},
   "outputs": [],
   "source": [
    "df.shape[0], df.shape[1]"
   ]
  },
  {
   "cell_type": "code",
   "execution_count": null,
   "id": "90ef4a48",
   "metadata": {},
   "outputs": [],
   "source": [
    "# Printing out different columns\n",
    "df.columns"
   ]
  },
  {
   "cell_type": "code",
   "execution_count": null,
   "id": "3c5ae129",
   "metadata": {},
   "outputs": [],
   "source": [
    "# Changing columns names\n",
    "df.columns = ['ID', 'Sex', 'Age', 'Country', 'Province', 'City', 'Infection Case', 'Infected By', 'Contact Number',\n",
    "             'Symptom Onset Date', 'Confirmed Date', 'Released Date', 'Deceased Date', 'State']"
   ]
  },
  {
   "cell_type": "code",
   "execution_count": null,
   "id": "c271b0fd",
   "metadata": {},
   "outputs": [],
   "source": [
    "df.columns"
   ]
  },
  {
   "cell_type": "markdown",
   "id": "afa672e7",
   "metadata": {},
   "source": [
    "**Type of features**\n",
    "\n",
    "Categorical Features = Patient ID, Sex, Age groups, Country, Province, City, Infection Case, Infected_By, State\n",
    "\n",
    "Continuous Features = Contact Number\n"
   ]
  },
  {
   "cell_type": "markdown",
   "id": "c7acb09a",
   "metadata": {},
   "source": [
    "### Cleaning Data"
   ]
  },
  {
   "cell_type": "code",
   "execution_count": null,
   "id": "8ff571bc",
   "metadata": {},
   "outputs": [],
   "source": [
    "df.dtypes"
   ]
  },
  {
   "cell_type": "code",
   "execution_count": null,
   "id": "4e04710a",
   "metadata": {},
   "outputs": [],
   "source": [
    "# Define data types\n",
    "\n",
    "df[['Sex', 'Country', 'Province', 'City', 'Infection Case', 'State']] = df[['Sex', 'Country', 'Province', 'City', 'Infection Case', 'State']].astype(\"string\")"
   ]
  },
  {
   "cell_type": "code",
   "execution_count": null,
   "id": "f32b8120",
   "metadata": {},
   "outputs": [],
   "source": [
    "# Check missing values\n",
    "\n",
    "df.isnull().sum()"
   ]
  },
  {
   "cell_type": "code",
   "execution_count": null,
   "id": "bba770e5",
   "metadata": {},
   "outputs": [],
   "source": [
    "# Visualize missingness with modified missingno library matrix function\n",
    "\n",
    "fig, ax = plt.subplots(figsize=(10, 5))\n",
    "missing_matrix(df, ax=ax, sparkline=False)\n",
    "plt.show()"
   ]
  },
  {
   "cell_type": "code",
   "execution_count": null,
   "id": "a2aa8bb4",
   "metadata": {},
   "outputs": [],
   "source": [
    "# EXPLICACION MISSING VALUES"
   ]
  },
  {
   "cell_type": "markdown",
   "id": "74276a45",
   "metadata": {},
   "source": [
    "**Handling missing values**"
   ]
  },
  {
   "cell_type": "code",
   "execution_count": null,
   "id": "6dc5e5e9",
   "metadata": {},
   "outputs": [],
   "source": [
    "# We will first handle missing cities finding the most common \n",
    "# city within the same province, country and state\n",
    "# Applying the function to fill missing city values from my_func.py file\n",
    "\n",
    "df['City'] = df.apply(\n",
    "    lambda row: fill_missing_value(row, df, 'City', \n",
    "                                   ['Province', 'Country', 'State']), axis=1).astype('string')"
   ]
  },
  {
   "cell_type": "code",
   "execution_count": null,
   "id": "f4c7a166",
   "metadata": {},
   "outputs": [],
   "source": [
    "# We want to now observe if there is a any correlation between sex and the province feature \n",
    "# then we will understand if we can fill in empty values based on known values\n",
    "\n",
    "categorical_columns = ['Province', 'Country', 'City']\n",
    "chi2_correlation('Sex', categorical_columns, df)"
   ]
  },
  {
   "cell_type": "markdown",
   "id": "3653f75f",
   "metadata": {},
   "source": [
    "* Province-Sex Association: The p-value (1.4154599552335896e-05) is very small, indicating that there is a statistically significant association between the province and sex of the individuals. This tell us that the distribution of sexes is not the same within all provinces.\n",
    "\n",
    "* Country-Sex Association: The p-value (0.059418440980756944) is larger than 0.05, we do not have enough evidence to say there is a statistically significant association between the country and the sex of the individuals.\n",
    "\n",
    "* City-Sex Association: The p-value (2.5807447933143334e-06) is extremely small, indicating a statistically significant association between the city and sex of the individuals. This suggests the distribution of sexes is not the same across all cities."
   ]
  },
  {
   "cell_type": "code",
   "execution_count": null,
   "id": "6079a7b2",
   "metadata": {},
   "outputs": [],
   "source": [
    "# we want to now fill in empty sex values based on the city mode\n",
    "\n",
    "# group the dataframe by 'City' and calculate the mode of the 'Sex' column\n",
    "mode_by_city = df.groupby('City')['Sex'].apply(lambda x: x.mode()[0] if not x.mode().empty else None)\n",
    "\n",
    "# fill in missing values in 'Sex' based on the mode of the corresponding 'City'\n",
    "df['Sex'] = df.apply(lambda row: mode_by_city[row['City']] if pd.isnull(row['Sex']) else row['Sex'], axis=1).astype('string')\n",
    "\n",
    "# replace any remaining missing values with the overall mode\n",
    "mode_sex = df['Sex'].mode()[0]\n",
    "df['Sex'].fillna(mode_sex, inplace=True)"
   ]
  },
  {
   "cell_type": "code",
   "execution_count": null,
   "id": "e31766f0",
   "metadata": {},
   "outputs": [],
   "source": [
    "pie_chart(df, 'Sex')"
   ]
  },
  {
   "cell_type": "code",
   "execution_count": null,
   "id": "c8aff756",
   "metadata": {},
   "outputs": [],
   "source": [
    "# we want to now fill in empty age vales based on the city mode.\n",
    "\n",
    "# group the dataframe by 'province' and calculate the mode of the 'age' column\n",
    "mode_by_city = df.groupby('City')['Age'].apply(lambda x: x.mode()[0] if not x.mode().empty else None)\n",
    "\n",
    "# fill in missing values in 'Sex' based on the mode of the corresponding 'City'\n",
    "df['Age'] = df.apply(lambda row: mode_by_city[row['City']] if pd.isnull(row['Age']) else row['Age'], axis=1).astype('string')\n",
    "\n",
    "# replace any remaining missing values with the overall mode\n",
    "mode_sex = df['Age'].mode()[0]\n",
    "df['Age'].fillna(mode_sex, inplace=True)"
   ]
  },
  {
   "cell_type": "code",
   "execution_count": null,
   "id": "55284878",
   "metadata": {},
   "outputs": [],
   "source": [
    "# To handle the infecion case part, I will create a new category to fill in empty spaces for the Unknown ones.\n",
    "df['Infection Case'] = df['Infection Case'].fillna('Unknown').astype('string')"
   ]
  },
  {
   "cell_type": "code",
   "execution_count": null,
   "id": "569b9bd6",
   "metadata": {},
   "outputs": [],
   "source": [
    "# we will fill in the infected by values empties with unknown and the na also\n",
    "# I assume missing values might be unknown by the patient\n",
    "df['Infected By'] = df['Infected By'].apply(lambda x: convert_to_float(x, 10))"
   ]
  },
  {
   "cell_type": "code",
   "execution_count": null,
   "id": "40061791",
   "metadata": {},
   "outputs": [],
   "source": [
    "# Replace 'nan' and '-' with actual NaN values\n",
    "df['Contact Number'] = df['Contact Number'].apply(lambda x: float(np.nan) if x == '-' else x)"
   ]
  },
  {
   "cell_type": "code",
   "execution_count": null,
   "id": "eb42894e",
   "metadata": {},
   "outputs": [],
   "source": [
    "df['Contact Number'] = df['Contact Number'].apply(lambda x: convert_to_float(x, 5))"
   ]
  },
  {
   "cell_type": "markdown",
   "id": "93fe8792",
   "metadata": {},
   "source": [
    "Sympton Onset Date data has a large number of missing values that could tell us that there are many asymptomatic\n",
    "cases or cases where symptom onset wasn't tracked. \n",
    "Since most of the column shows as missing value I will assume that people got tested soon after they start showing symptoms I'm gonna use the confirmed date to fill in the empty values. "
   ]
  },
  {
   "cell_type": "code",
   "execution_count": null,
   "id": "0aa4d7e4",
   "metadata": {},
   "outputs": [],
   "source": [
    "# Fill missing 'Symptom Onset Date' with 'Confirmed Date' for applicable rows\n",
    "df.loc[df['Symptom Onset Date'].isnull(), 'Symptom Onset Date'] = df.loc[df['Symptom Onset Date'].isnull(), 'Confirmed Date']\n",
    "df['Symptom Onset Date'] = pd.to_datetime(df['Symptom Onset Date'], errors='coerce', format='%Y-%m-%d')"
   ]
  },
  {
   "cell_type": "code",
   "execution_count": null,
   "id": "d5c19f41",
   "metadata": {},
   "outputs": [],
   "source": [
    "# We will drop rows with confirmed_date missing data since is just a very little amount\n",
    "# Drop rows where 'confirmed_date' is missing and convert column to datetime dataframe\n",
    "\n",
    "df.dropna(subset=['Confirmed Date'], inplace=True)\n",
    "df['Confirmed Date'] = pd.to_datetime(df['Confirmed Date'], format='%Y-%m-%d')\n",
    "histogram(df, 'Confirmed Date', bins=50)"
   ]
  },
  {
   "cell_type": "code",
   "execution_count": null,
   "id": "92145838",
   "metadata": {},
   "outputs": [],
   "source": [
    "df['Released Date'] = pd.to_datetime(df['Released Date'], format='%Y-%m-%d')\n",
    "df['Deceased Date'] = pd.to_datetime(df['Deceased Date'], format='%Y-%m-%d')"
   ]
  },
  {
   "cell_type": "markdown",
   "id": "5f7a23e4",
   "metadata": {},
   "source": [
    "### Feature Engineering"
   ]
  },
  {
   "cell_type": "markdown",
   "id": "cebaff22",
   "metadata": {},
   "source": [
    "Adding new time-related columns.\n",
    "\n",
    "- Days between symptom onset and confirmation for those that we had data, since the ones that we didn't know we assumed that the patient had no symptons or knowledge of having COVID-19 so the symptons date would be same as the confirmation date. That day we will have insights on which patients had symtoms and when the patient got confirmed at the hospital.\n",
    "\n",
    "- Days between confirmation and release / decease dates to later on plan a little bit resources with healthcare resource planning."
   ]
  },
  {
   "cell_type": "code",
   "execution_count": null,
   "id": "d752eec7",
   "metadata": {},
   "outputs": [],
   "source": [
    "# Calculation days between symptons onset and confirmation date\n",
    "df['Days between Symptom Onset and Confirmation'] = (df['Confirmed Date'] - df['Symptom Onset Date']).dt.days"
   ]
  },
  {
   "cell_type": "code",
   "execution_count": null,
   "id": "e5b90cc3",
   "metadata": {},
   "outputs": [],
   "source": [
    "# calculation days between confirmation date and released date \n",
    "df['Days between Confirmation and Release'] = (df['Released Date'] - df['Confirmed Date']).dt.days"
   ]
  },
  {
   "cell_type": "code",
   "execution_count": null,
   "id": "eaa0d886",
   "metadata": {},
   "outputs": [],
   "source": [
    "# calculation days between confirmation date and deceased date \n",
    "df['Days between Confirmation and Deceased'] = (df['Deceased Date'] - df['Confirmed Date']).dt.days"
   ]
  },
  {
   "cell_type": "code",
   "execution_count": null,
   "id": "c868675a",
   "metadata": {},
   "outputs": [],
   "source": [
    "# Concatenate all the strings in the 'Infection Case' column into a single text\n",
    "all_text = ' '.join(df['Infection Case'].astype(str))\n",
    "\n",
    "# Tokenize the text into individual words\n",
    "words = re.findall(r'\\b\\w+\\b', all_text.lower())\n",
    "\n",
    "# Count the frequency of each word\n",
    "word_freq = Counter(words)\n",
    "\n",
    "# Sort the words based on their frequency in descending order\n",
    "sorted_words = sorted(word_freq.items(), key=lambda x: x[1], reverse=True)\n",
    "\n",
    "# Display the most repeated words and their frequencies\n",
    "# print(\"Most repeated words:\")\n",
    "# for word, freq in sorted_words:\n",
    "#    print(f\"{word}: {freq}\")"
   ]
  },
  {
   "cell_type": "code",
   "execution_count": null,
   "id": "592d1bd4",
   "metadata": {},
   "outputs": [],
   "source": [
    "df['Infection Case'] = df['Infection Case'].str.lower()\n",
    "\n",
    "\n",
    "# Create a new column for the category\n",
    "df['Infection Case Category'] = df['Infection Case'].apply(categorize_case)"
   ]
  },
  {
   "cell_type": "markdown",
   "id": "0ed245e6",
   "metadata": {},
   "source": [
    "### Summary Statistics"
   ]
  },
  {
   "cell_type": "markdown",
   "id": "d83e2e0f",
   "metadata": {},
   "source": [
    "Calculating the mean, median, mode, minimum, maximum, and standard deviation for numerical columns, and counts or frequency distributions for categorical columns."
   ]
  },
  {
   "cell_type": "markdown",
   "id": "1e59e7f7",
   "metadata": {},
   "source": [
    "#### Demomgraphic Analysis"
   ]
  },
  {
   "cell_type": "code",
   "execution_count": null,
   "id": "b6fc2230",
   "metadata": {},
   "outputs": [],
   "source": [
    "# Calculating frequency distributions for categorical columns starting with demographic columns\n",
    "# Age groups, genders, status of the infection\n",
    "\n",
    "df['Age'] = df['Age'].str.rstrip('s').astype(int)"
   ]
  },
  {
   "cell_type": "code",
   "execution_count": null,
   "id": "ab3ae59f",
   "metadata": {},
   "outputs": [],
   "source": [
    "counterplot('Age', df, xlabel_string=\"Age Groups\")"
   ]
  },
  {
   "cell_type": "code",
   "execution_count": null,
   "id": "d1fbe79d",
   "metadata": {},
   "outputs": [],
   "source": [
    "counterplot_hue(df=df, target_column = \"Age\", hue= \"Sex\", xlabel = \"Age Groups\", title=\"Age per sex distribution\")"
   ]
  },
  {
   "cell_type": "code",
   "execution_count": null,
   "id": "7559047a",
   "metadata": {},
   "outputs": [],
   "source": [
    "df['Age'].describe()"
   ]
  },
  {
   "cell_type": "markdown",
   "id": "10a6683e",
   "metadata": {},
   "source": [
    "So far we can see the most vulnerable groups are people in their 20s and 50s. Now let's differenciate which are males and which are females."
   ]
  },
  {
   "cell_type": "code",
   "execution_count": null,
   "id": "172bc4bc",
   "metadata": {},
   "outputs": [],
   "source": [
    "pie_chart(df, 'State')"
   ]
  },
  {
   "cell_type": "code",
   "execution_count": null,
   "id": "53fdf3ae-248c-400d-b371-6280ddf0e86c",
   "metadata": {},
   "outputs": [],
   "source": [
    "num_deceased = len(df[df['State'] == 'deceased'])\n",
    "total_confirmed_cases = len(df)\n",
    "fatality_rate = (num_deceased / total_confirmed_cases) * 100\n",
    "fatality_rate"
   ]
  },
  {
   "cell_type": "code",
   "execution_count": null,
   "id": "ed52de7e-cac5-4eff-bf32-2f1633089e42",
   "metadata": {},
   "outputs": [],
   "source": [
    "num_recovered = len(df[df['State'] == 'released'])\n",
    "recovery_rate = (num_recovered / total_confirmed_cases) * 100\n",
    "recovery_rate"
   ]
  },
  {
   "cell_type": "markdown",
   "id": "0c789eb8-1fdb-4ac4-9419-31910f116cc6",
   "metadata": {},
   "source": [
    "The recovery rate is promising since more than half of the confirmed cases have recovered.\n",
    "The fatality rate, while relatively low, still signifies the importance of preventive measures."
   ]
  },
  {
   "cell_type": "markdown",
   "id": "c5e15761",
   "metadata": {},
   "source": [
    "Let's go further by analysis the relationship between ages, sex and status of the disease. "
   ]
  },
  {
   "cell_type": "code",
   "execution_count": null,
   "id": "636f2b2e",
   "metadata": {},
   "outputs": [],
   "source": [
    "counterplot_hue(df=df, target_column = \"State\", hue= \"Age\", xlabel = \"Status\", title=\"Status per Age\")"
   ]
  },
  {
   "cell_type": "markdown",
   "id": "8e7007cf",
   "metadata": {},
   "source": [
    "#### Geographic Analysis"
   ]
  },
  {
   "cell_type": "code",
   "execution_count": null,
   "id": "2d7d6f12",
   "metadata": {},
   "outputs": [],
   "source": [
    "# Create province cases dataframe by grouping province by number of cases\n",
    "province_cases = df.groupby('Province').size().reset_index(name='Total Cases')\n",
    "province_cases.at[11, 'Province'] = 'Jeju'"
   ]
  },
  {
   "cell_type": "code",
   "execution_count": null,
   "id": "ce2971bb",
   "metadata": {},
   "outputs": [],
   "source": [
    "# Import population by regions in South Korea\n",
    "pop_df = pd.read_csv('datasets/population_density_korea_south_regions.csv')\n",
    "pop_df.rename(columns={'By administrative divisions' : \"Province\"}, inplace=True)"
   ]
  },
  {
   "cell_type": "code",
   "execution_count": null,
   "id": "eefb2b8f",
   "metadata": {},
   "outputs": [],
   "source": [
    "# Rename a province name so their are matching\n",
    "pop_df.at[8, 'Province'] = 'Sejong'\n",
    "pop_df.at[17, 'Province'] = 'Jeju'\n",
    "pop_df = pop_df.iloc[1:]\n",
    "pop_df = pop_df.reset_index(drop=True)"
   ]
  },
  {
   "cell_type": "code",
   "execution_count": null,
   "id": "33dd0e09",
   "metadata": {},
   "outputs": [],
   "source": [
    "# Merge the province population and province cases datasets by province name\n",
    "province_cases_population = province_cases.merge(pop_df, on='Province')\n",
    "\n",
    "# Reset the index to an unified numeration and print it out\n",
    "province_cases_population.reset_index(drop=True, inplace=True)"
   ]
  },
  {
   "cell_type": "code",
   "execution_count": null,
   "id": "43596386",
   "metadata": {},
   "outputs": [],
   "source": [
    "create_map('Province', 'shapefiles/dk009rq9138.shp', '2019', 'Population Density in 2019', province_cases_population)"
   ]
  },
  {
   "cell_type": "markdown",
   "id": "46046501",
   "metadata": {},
   "source": [
    "Checking further the relationship between population density, and the number of cases in different regions."
   ]
  },
  {
   "cell_type": "code",
   "execution_count": null,
   "id": "dac35e58",
   "metadata": {},
   "outputs": [],
   "source": [
    "create_map('Province', 'shapefiles/dk009rq9138.shp', 'Total Cases', 'Total Cases per Province in 2020', province_cases_population)"
   ]
  },
  {
   "cell_type": "code",
   "execution_count": null,
   "id": "8ee28559",
   "metadata": {},
   "outputs": [],
   "source": [
    "create_map('Province', 'shapefiles/dk009rq9138.shp', '2019', 'Population Density in 2020', province_cases_population)"
   ]
  },
  {
   "cell_type": "code",
   "execution_count": null,
   "id": "528bb12a",
   "metadata": {},
   "outputs": [],
   "source": [
    "# Calculate the correlation coefficient\n",
    "correlation = province_cases_population['Total Cases'].corr(province_cases_population['2020'])\n",
    "\n",
    "# Print the correlation coefficient\n",
    "print(\"Correlation Coefficient:\", correlation)\n",
    "\n",
    "# Plot a scatter plot to visualize the relationship\n",
    "plt.scatter(province_cases_population['2020'], province_cases_population['Total Cases'])\n",
    "plt.xlabel('2020')\n",
    "plt.ylabel('Total Cases')\n",
    "plt.title('Correlation between Total Cases and Population Density')\n",
    "plt.show()"
   ]
  },
  {
   "cell_type": "markdown",
   "id": "80c40348",
   "metadata": {},
   "source": [
    "Based on the correlation coefficient of 0.5089, there is a moderate positive correlation between the total cases and population density in the given dataset. This means that as the population density in 2019 & 2020, the total number of cases tends to increase as well, and vice versa. "
   ]
  },
  {
   "cell_type": "markdown",
   "id": "6ffa2d3d",
   "metadata": {},
   "source": [
    "Calculating the incidence rate for each region by dividing the number of COVID-19 cases by the population size. This will give us a measure of the spread of the virus relative to the population size."
   ]
  },
  {
   "cell_type": "code",
   "execution_count": null,
   "id": "de199fd5",
   "metadata": {},
   "outputs": [],
   "source": [
    "province_cases_population['Incidence Rate'] = province_cases_population['Total Cases'] / (province_cases_population['2019'])"
   ]
  },
  {
   "cell_type": "code",
   "execution_count": null,
   "id": "abf2d0f1",
   "metadata": {},
   "outputs": [],
   "source": [
    "province_cases_population"
   ]
  },
  {
   "cell_type": "code",
   "execution_count": null,
   "id": "20625da4",
   "metadata": {},
   "outputs": [],
   "source": [
    "create_map('Province', 'shapefiles/dk009rq9138.shp', 'Incidence Rate', 'Incidence Rate', province_cases_population)"
   ]
  },
  {
   "cell_type": "markdown",
   "id": "d68182aa",
   "metadata": {},
   "source": [
    "It can be indicative of localized outbreaks or clusters of COVID-19 cases in specific regions. This can lead to a higher incidence rate despite the lower population density."
   ]
  },
  {
   "cell_type": "code",
   "execution_count": null,
   "id": "45629e86",
   "metadata": {},
   "outputs": [],
   "source": [
    "province_name = 'Gyeongsangbuk-do'  # Province name to filter\n",
    "outbreak = df.loc[df['Province'] == province_name]"
   ]
  },
  {
   "cell_type": "code",
   "execution_count": null,
   "id": "00fc59f4",
   "metadata": {},
   "outputs": [],
   "source": [
    "outbreak"
   ]
  },
  {
   "cell_type": "code",
   "execution_count": null,
   "id": "f13c8a2b",
   "metadata": {},
   "outputs": [],
   "source": [
    "pie_chart(outbreak, 'Infection Case Category')"
   ]
  },
  {
   "cell_type": "markdown",
   "id": "1fb1b0be",
   "metadata": {},
   "source": [
    "Among the infection cases in the outbreak province, a significant portion (57%) is categorized as 'Unknown,' indicating that the source of transmission for these cases is yet to be determined. Another substantial proportion (20.8%) falls under the category 'other', which likely encompasses various miscellaneous cases. The remaining cases (22.2%) can be attributed to specific sources, such as religious gatherings (e.g., Shincheonji Church), healthcare facilities (e.g., Gyeongsan Seorin Nursing Home and Cheongdo Daenam Hospital), and other specific locations (e.g., Gyeongsan Cham Joeun Community Center and Pilgrimage to Israel)."
   ]
  },
  {
   "cell_type": "markdown",
   "id": "801f92c2",
   "metadata": {},
   "source": [
    "#### Contact and infection"
   ]
  },
  {
   "cell_type": "markdown",
   "id": "3ca8e3ad",
   "metadata": {},
   "source": [
    "\n",
    "In this section we will focus on the analysis of 'infection_case', 'infected_by', and 'contact_number' columns to understand how the virus was spread in the country and if we can detect any super spreader cases, sources of infection, find patterns or contact behaviors. "
   ]
  },
  {
   "cell_type": "code",
   "execution_count": null,
   "id": "315e3722",
   "metadata": {},
   "outputs": [],
   "source": [
    "df['Contact Number'].describe()"
   ]
  },
  {
   "cell_type": "markdown",
   "id": "1daf81d1",
   "metadata": {},
   "source": [
    "The contact number column contains information on the number of contacts associated with COVID-19 cases. On average, each case had around 14 contacts, with a wide range of values from 0 to 485. The data reveals the extent of potential transmission through contact tracing efforts."
   ]
  },
  {
   "cell_type": "code",
   "execution_count": null,
   "id": "641b9e5e",
   "metadata": {},
   "outputs": [],
   "source": [
    "histogram(df, 'Contact Number', bins=50)"
   ]
  },
  {
   "cell_type": "markdown",
   "id": "b14940dd",
   "metadata": {},
   "source": [
    "Now, we will analyze the 'Contact Number' per province to identify regions with a high number of contacts. This analysis will help us understand if certain regions require more education and preventive measures to reduce contact and curb the spread of COVID-19."
   ]
  },
  {
   "cell_type": "code",
   "execution_count": null,
   "id": "b5c2824c",
   "metadata": {},
   "outputs": [],
   "source": [
    "# Calculating the average contactt number for each province\n",
    "average_contact_number_per_province = df.groupby('Province')['Contact Number'].mean().reset_index()\n",
    "\n",
    "# Sort the data by the average 'Contact Number' in descending order\n",
    "average_contact_number_per_province = average_contact_number_per_province.sort_values(by='Contact Number', ascending=False)"
   ]
  },
  {
   "cell_type": "code",
   "execution_count": null,
   "id": "b2114b5b",
   "metadata": {},
   "outputs": [],
   "source": [
    "barplot('Contact Number', 'Province', average_contact_number_per_province, 'Average contact number per province')"
   ]
  },
  {
   "cell_type": "markdown",
   "id": "e18cb950",
   "metadata": {},
   "source": [
    "This analysis examines the average 'Contact Number' for each province, shedding light on potential variations in COVID-19 exposure. Daegu leads with the highest average contact number, while some provinces lack sufficient data. Understanding these patterns can help focus preventive efforts in regions with higher exposure risks as 'Daegu' and\n",
    "'Jeollabuk-do' in second place but by difference. The region that needs most preventive efforts is Daegu. "
   ]
  },
  {
   "cell_type": "code",
   "execution_count": null,
   "id": "4eb9a4ac",
   "metadata": {},
   "outputs": [],
   "source": [
    "df['Infection Case Category'].unique()"
   ]
  },
  {
   "cell_type": "code",
   "execution_count": null,
   "id": "63ae75f5",
   "metadata": {},
   "outputs": [],
   "source": [
    "# Exclude rows with 'Unknown' in the 'Infection Case' column\n",
    "known_cases_df = df[df['Infection Case Category'] != 'Unknown']\n",
    "\n",
    "# Count the occurrences of each infection source\n",
    "infection_counts = known_cases_df['Infection Case Category'].value_counts()"
   ]
  },
  {
   "cell_type": "code",
   "execution_count": null,
   "id": "4ac97648",
   "metadata": {},
   "outputs": [],
   "source": [
    "infection_counts"
   ]
  },
  {
   "cell_type": "code",
   "execution_count": null,
   "id": "b34dd726",
   "metadata": {},
   "outputs": [],
   "source": [
    "counterplot('Infection Case Category', df, 'xlabel_string')"
   ]
  },
  {
   "cell_type": "markdown",
   "id": "e3facb98",
   "metadata": {},
   "source": [
    "The analysis of infection cases reveals that the highest number (1610) is due to contact with patients. Additionally, there are 1092 cases classified as \"Other,\" indicating unspecified sources. Overseas inflow accounts for 840 cases, emphasizing the importance of monitoring international travel for disease control."
   ]
  },
  {
   "cell_type": "code",
   "execution_count": null,
   "id": "2ca80609",
   "metadata": {},
   "outputs": [],
   "source": [
    "# Filter out rows with known sources of infection\n",
    "known_sources_df = df[df['Infected By'].notna()]\n",
    "\n",
    "# Count the occurrences of each unique source of infection\n",
    "infection_counts = known_sources_df['Infected By'].value_counts()"
   ]
  },
  {
   "cell_type": "code",
   "execution_count": null,
   "id": "e4368bb0",
   "metadata": {},
   "outputs": [],
   "source": [
    "infection_counts.describe()"
   ]
  },
  {
   "cell_type": "markdown",
   "id": "927f8d11",
   "metadata": {},
   "source": [
    "Infected By Analysis: Explore the 'infected_by' column to investigate the transmission patterns. Determine the number of cases that were infected by each unique source. This can help you identify super-spreader cases or individuals who contributed significantly to the transmission."
   ]
  },
  {
   "cell_type": "code",
   "execution_count": null,
   "id": "8df04624",
   "metadata": {},
   "outputs": [],
   "source": [
    "infected_more_than_5 = infection_counts[infection_counts > 2]\n",
    "\n",
    "# Get the IDs of patients who infected more than 5 people\n",
    "infected_more_than_5_ids = infected_more_than_5.index.tolist()"
   ]
  },
  {
   "cell_type": "code",
   "execution_count": null,
   "id": "b10be210",
   "metadata": {},
   "outputs": [],
   "source": [
    "# Create a DataFrame containing only the rows with the selected IDs\n",
    "selected_rows_df = df[df['ID'].isin(infected_more_than_5_ids)]\n",
    "\n",
    "pie_chart(selected_rows_df, 'Infection Case Category')"
   ]
  },
  {
   "cell_type": "markdown",
   "id": "0cd33c58",
   "metadata": {},
   "source": [
    "#### Time Analysis\n",
    "\n",
    "* From Symptom Onset to Confirmation: Testing efficiency and the possible presence of asymptomatic carriers.\n",
    "    \n",
    "* From Confirmation to Release/Decease: Healthcare system's response and the virus's impact."
   ]
  },
  {
   "cell_type": "code",
   "execution_count": null,
   "id": "d88abd62",
   "metadata": {},
   "outputs": [],
   "source": [
    "# Symptom Onset to Confirmation date\n",
    "\n",
    "avg_days_symptons_onset_to_confirmation = df.groupby('Confirmed Date')['Days between Symptom Onset and Confirmation'].mean().reset_index()\n",
    "time_series(avg_days_symptons_onset_to_confirmation, \n",
    "            'Confirmed Date', 'Days between Symptom Onset and Confirmation', 'Days between Symptom Onset and Confirmation', 'Avg number of days')"
   ]
  },
  {
   "cell_type": "code",
   "execution_count": null,
   "id": "ca907e33",
   "metadata": {},
   "outputs": [],
   "source": [
    "avg_days_confirmation_to_release = df.groupby('Confirmed Date')['Days between Confirmation and Release'].mean().reset_index()\n",
    "time_series(avg_days_confirmation_to_release, \n",
    "            'Confirmed Date', 'Days between Confirmation and Release', 'Days between Confirmation and Release', 'Avg number of days')"
   ]
  },
  {
   "cell_type": "code",
   "execution_count": null,
   "id": "2c0fe092",
   "metadata": {},
   "outputs": [],
   "source": [
    "avg_days_confirmation_to_deceased = df.groupby('Confirmed Date')['Days between Confirmation and Deceased'].mean().reset_index()\n",
    "time_series(avg_days_confirmation_to_deceased, \n",
    "            'Confirmed Date', 'Days between Confirmation and Deceased', 'Days between Confirmation and Deceased', 'Avg number of days')"
   ]
  },
  {
   "cell_type": "code",
   "execution_count": null,
   "id": "69787534",
   "metadata": {},
   "outputs": [],
   "source": [
    " "
   ]
  }
 ],
 "metadata": {
  "kernelspec": {
   "display_name": "Python 3 (ipykernel)",
   "language": "python",
   "name": "python3"
  },
  "language_info": {
   "codemirror_mode": {
    "name": "ipython",
    "version": 3
   },
   "file_extension": ".py",
   "mimetype": "text/x-python",
   "name": "python",
   "nbconvert_exporter": "python",
   "pygments_lexer": "ipython3",
   "version": "3.11.2"
  }
 },
 "nbformat": 4,
 "nbformat_minor": 5
}
